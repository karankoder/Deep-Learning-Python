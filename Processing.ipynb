{
 "cells": [
  {
   "cell_type": "code",
   "execution_count": 1,
   "id": "594dfd95",
   "metadata": {},
   "outputs": [],
   "source": [
    "import os\n",
    "import numpy as np\n",
    "import pandas as pd\n",
    "import matplotlib.pyplot as plt\n",
    "\n",
    "from scipy.interpolate import interp1d\n",
    "\n",
    "%matplotlib inline"
   ]
  },
  {
   "cell_type": "code",
   "execution_count": 3,
   "id": "26468522",
   "metadata": {},
   "outputs": [],
   "source": [
    "df = pd.read_csv('GRF_F_V_RAW_right.csv')"
   ]
  },
  {
   "cell_type": "code",
   "execution_count": 2,
   "id": "8209bd17",
   "metadata": {},
   "outputs": [],
   "source": [
    "missing_percentage = (df.isna().sum() / len(df)) * 100\n",
    "columns_to_delete = missing_percentage[missing_percentage > 80].index\n",
    "df = df.drop(columns=columns_to_delete)\n",
    "def spline_interpolation(row):\n",
    "    # Get non-NaN values and their indices\n",
    "    non_nan_indices = row.index[~row.isna()]\n",
    "    non_nan_values = row.dropna().values\n",
    "\n",
    "    # If there are at least 2 non-NaN values, perform interpolation\n",
    "    if len(non_nan_values) >= 2:\n",
    "        # Create an interpolation function using spline interpolation\n",
    "        f = interpolate.interp1d(non_nan_indices, non_nan_values, kind='slinear', fill_value=\"extrapolate\")\n",
    "        # Interpolate missing values\n",
    "        interpolated_values = f(row.index)\n",
    "        return interpolated_values\n",
    "    else:\n",
    "        # If there are fewer than 2 non-NaN values, return the original row\n",
    "        return row\n",
    "\n",
    "# Apply the spline interpolation function to each row\n",
    "df_interpolated = df.apply(spline_interpolation, axis=1)"
   ]
  },
  {
   "cell_type": "code",
   "execution_count": 6,
   "id": "0c461a5b",
   "metadata": {},
   "outputs": [],
   "source": [
    "df=prepare_df(df);\n",
    "df.to_csv('data.csv', index=False)"
   ]
  },
  {
   "cell_type": "code",
   "execution_count": null,
   "id": "b69b847b",
   "metadata": {},
   "outputs": [],
   "source": []
  }
 ],
 "metadata": {
  "kernelspec": {
   "display_name": "Python 3 (ipykernel)",
   "language": "python",
   "name": "python3"
  },
  "language_info": {
   "codemirror_mode": {
    "name": "ipython",
    "version": 3
   },
   "file_extension": ".py",
   "mimetype": "text/x-python",
   "name": "python",
   "nbconvert_exporter": "python",
   "pygments_lexer": "ipython3",
   "version": "3.11.8"
  }
 },
 "nbformat": 4,
 "nbformat_minor": 5
}
